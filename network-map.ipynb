{
 "cells": [
  {
   "cell_type": "markdown",
   "id": "12e969ca",
   "metadata": {},
   "source": [
    "### importing and reading"
   ]
  },
  {
   "cell_type": "code",
   "execution_count": 55,
   "id": "607737c6",
   "metadata": {},
   "outputs": [],
   "source": [
    "# import modules\n",
    "import pandas as pd\n",
    "import seaborn as sns\n",
    "import numpy as np\n",
    "\n",
    "# Fixing random state for reproducibility\n",
    "np.random.seed(387)"
   ]
  },
  {
   "cell_type": "code",
   "execution_count": 68,
   "id": "631344e2",
   "metadata": {},
   "outputs": [],
   "source": [
    "# read data\n",
    "characters = pd.read_csv('datasets/Characters.csv', sep=';')\n",
    "hp1 = pd.read_csv('datasets/Harry Potter 1.csv', sep=';')\n",
    "hp2 = pd.read_csv('datasets/Harry Potter 2.csv', sep=';', header= None)\n",
    "hp3 = pd.read_csv('datasets/Harry Potter 3.csv', sep=';', header= None)\n",
    "\n",
    "# transform To DataFrames\n",
    "hp1 = pd.DataFrame(data= hp1)\n",
    "hp2 = pd.DataFrame(data= hp2)\n",
    "hp3 = pd.DataFrame(data= hp3)"
   ]
  },
  {
   "cell_type": "markdown",
   "id": "7e8a6f6f",
   "metadata": {},
   "source": [
    "### getting column names, and table shapes"
   ]
  },
  {
   "cell_type": "code",
   "execution_count": 69,
   "id": "947fdc07",
   "metadata": {},
   "outputs": [
    {
     "name": "stdout",
     "output_type": "stream",
     "text": [
      "Index(['Id', 'Name', 'Gender', 'Job', 'House', 'Wand', 'Patronus', 'Species',\n",
      "       'Blood status', 'Hair colour', 'Eye colour', 'Loyalty', 'Skills',\n",
      "       'Birth', 'Death'],\n",
      "      dtype='object') \n",
      "\n",
      "Index(['Character', 'Sentence'], dtype='object')\n"
     ]
    }
   ],
   "source": [
    "# column names\n",
    "print(characters.columns,'\\n')\n",
    "print(hp1.columns)"
   ]
  },
  {
   "cell_type": "code",
   "execution_count": 95,
   "id": "1706e4b6",
   "metadata": {},
   "outputs": [
    {
     "name": "stdout",
     "output_type": "stream",
     "text": [
      "hp1 shape: (1587, 2) \n",
      " hp2 shape: (1700, 2) \n",
      " hp3 shape: (1638, 2)\n"
     ]
    }
   ],
   "source": [
    "# 3 tables shapes\n",
    "print(\"hp1 shape:\", hp1.shape,'\\n',\n",
    "      \"hp2 shape:\", hp2.shape,'\\n',\n",
    "      \"hp3 shape:\", hp3.shape)"
   ]
  },
  {
   "cell_type": "markdown",
   "id": "edc70d1f",
   "metadata": {},
   "source": [
    "# Plots :\n",
    "### Characters with the most sentences\n",
    "#### top 15 of the first 3 movies "
   ]
  },
  {
   "cell_type": "code",
   "execution_count": 100,
   "id": "d3a7d40c",
   "metadata": {},
   "outputs": [
    {
     "data": {
      "text/html": [
       "<div>\n",
       "<style scoped>\n",
       "    .dataframe tbody tr th:only-of-type {\n",
       "        vertical-align: middle;\n",
       "    }\n",
       "\n",
       "    .dataframe tbody tr th {\n",
       "        vertical-align: top;\n",
       "    }\n",
       "\n",
       "    .dataframe thead th {\n",
       "        text-align: right;\n",
       "    }\n",
       "</style>\n",
       "<table border=\"1\" class=\"dataframe\">\n",
       "  <thead>\n",
       "    <tr style=\"text-align: right;\">\n",
       "      <th></th>\n",
       "      <th>Character</th>\n",
       "      <th>Sentence</th>\n",
       "      <th>CHARACTER</th>\n",
       "      <th>SENTENCE</th>\n",
       "    </tr>\n",
       "  </thead>\n",
       "  <tbody>\n",
       "    <tr>\n",
       "      <th>0</th>\n",
       "      <td>Dumbledore</td>\n",
       "      <td>I should've known that you would be here, Prof...</td>\n",
       "      <td>NaN</td>\n",
       "      <td>NaN</td>\n",
       "    </tr>\n",
       "    <tr>\n",
       "      <th>1</th>\n",
       "      <td>McGonagall</td>\n",
       "      <td>Good evening, Professor Dumbledore.</td>\n",
       "      <td>NaN</td>\n",
       "      <td>NaN</td>\n",
       "    </tr>\n",
       "    <tr>\n",
       "      <th>2</th>\n",
       "      <td>McGonagall</td>\n",
       "      <td>Are the rumors true, Albus?</td>\n",
       "      <td>NaN</td>\n",
       "      <td>NaN</td>\n",
       "    </tr>\n",
       "    <tr>\n",
       "      <th>3</th>\n",
       "      <td>Dumbledore</td>\n",
       "      <td>I'm afraid so, professor.</td>\n",
       "      <td>NaN</td>\n",
       "      <td>NaN</td>\n",
       "    </tr>\n",
       "    <tr>\n",
       "      <th>4</th>\n",
       "      <td>Dumbledore</td>\n",
       "      <td>The good and the bad.</td>\n",
       "      <td>NaN</td>\n",
       "      <td>NaN</td>\n",
       "    </tr>\n",
       "    <tr>\n",
       "      <th>5</th>\n",
       "      <td>McGonagall</td>\n",
       "      <td>And the boy?</td>\n",
       "      <td>NaN</td>\n",
       "      <td>NaN</td>\n",
       "    </tr>\n",
       "    <tr>\n",
       "      <th>6</th>\n",
       "      <td>Dumbledore</td>\n",
       "      <td>Hagrid is bringing him.</td>\n",
       "      <td>NaN</td>\n",
       "      <td>NaN</td>\n",
       "    </tr>\n",
       "    <tr>\n",
       "      <th>7</th>\n",
       "      <td>McGonagall</td>\n",
       "      <td>Do you think it wise to trust Hagrid with some...</td>\n",
       "      <td>NaN</td>\n",
       "      <td>NaN</td>\n",
       "    </tr>\n",
       "    <tr>\n",
       "      <th>8</th>\n",
       "      <td>Dumbledore</td>\n",
       "      <td>Ah, Professor, I would trust Hagrid with my life.</td>\n",
       "      <td>NaN</td>\n",
       "      <td>NaN</td>\n",
       "    </tr>\n",
       "    <tr>\n",
       "      <th>9</th>\n",
       "      <td>Hagrid</td>\n",
       "      <td>Professor Dumbledore, sir.</td>\n",
       "      <td>NaN</td>\n",
       "      <td>NaN</td>\n",
       "    </tr>\n",
       "  </tbody>\n",
       "</table>\n",
       "</div>"
      ],
      "text/plain": [
       "    Character                                           Sentence CHARACTER  \\\n",
       "0  Dumbledore  I should've known that you would be here, Prof...       NaN   \n",
       "1  McGonagall                Good evening, Professor Dumbledore.       NaN   \n",
       "2  McGonagall                        Are the rumors true, Albus?       NaN   \n",
       "3  Dumbledore                          I'm afraid so, professor.       NaN   \n",
       "4  Dumbledore                              The good and the bad.       NaN   \n",
       "5  McGonagall                                       And the boy?       NaN   \n",
       "6  Dumbledore                            Hagrid is bringing him.       NaN   \n",
       "7  McGonagall  Do you think it wise to trust Hagrid with some...       NaN   \n",
       "8  Dumbledore  Ah, Professor, I would trust Hagrid with my life.       NaN   \n",
       "9      Hagrid                         Professor Dumbledore, sir.       NaN   \n",
       "\n",
       "  SENTENCE  \n",
       "0      NaN  \n",
       "1      NaN  \n",
       "2      NaN  \n",
       "3      NaN  \n",
       "4      NaN  \n",
       "5      NaN  \n",
       "6      NaN  \n",
       "7      NaN  \n",
       "8      NaN  \n",
       "9      NaN  "
      ]
     },
     "execution_count": 100,
     "metadata": {},
     "output_type": "execute_result"
    }
   ],
   "source": [
    "# combine the 3 movies table\n",
    "combined = pd.concat([hp1, hp2, hp3], axis=0, ignore_index=True)\n",
    "combined.head(10)"
   ]
  }
 ],
 "metadata": {
  "kernelspec": {
   "display_name": "Python 3 (ipykernel)",
   "language": "python",
   "name": "python3"
  },
  "language_info": {
   "codemirror_mode": {
    "name": "ipython",
    "version": 3
   },
   "file_extension": ".py",
   "mimetype": "text/x-python",
   "name": "python",
   "nbconvert_exporter": "python",
   "pygments_lexer": "ipython3",
   "version": "3.10.7"
  }
 },
 "nbformat": 4,
 "nbformat_minor": 5
}
