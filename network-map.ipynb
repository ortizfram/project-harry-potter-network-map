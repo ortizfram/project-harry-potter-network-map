{
 "cells": [
  {
   "cell_type": "markdown",
   "id": "bca166d9",
   "metadata": {},
   "source": [
    "### importing and reading"
   ]
  },
  {
   "cell_type": "code",
   "execution_count": 55,
   "id": "607737c6",
   "metadata": {},
   "outputs": [],
   "source": [
    "# import modules\n",
    "import pandas as pd\n",
    "import seaborn as sns\n",
    "import numpy as np\n",
    "\n",
    "# Fixing random state for reproducibility\n",
    "np.random.seed(387)"
   ]
  },
  {
   "cell_type": "code",
   "execution_count": 68,
   "id": "631344e2",
   "metadata": {},
   "outputs": [],
   "source": [
    "# read data\n",
    "characters = pd.read_csv('datasets/Characters.csv', sep=';')\n",
    "hp1 = pd.read_csv('datasets/Harry Potter 1.csv', sep=';')\n",
    "hp2 = pd.read_csv('datasets/Harry Potter 2.csv', sep=';')\n",
    "hp3 = pd.read_csv('datasets/Harry Potter 3.csv', sep=';')\n",
    "\n",
    "# transform To DataFrames\n",
    "hp1 = pd.DataFrame(data= hp1)\n",
    "hp2 = pd.DataFrame(data= hp2)\n",
    "hp3 = pd.DataFrame(data= hp3)"
   ]
  },
  {
   "cell_type": "markdown",
   "id": "43a30672",
   "metadata": {},
   "source": [
    "### getting column names"
   ]
  },
  {
   "cell_type": "code",
   "execution_count": 69,
   "id": "a364b316",
   "metadata": {},
   "outputs": [
    {
     "name": "stdout",
     "output_type": "stream",
     "text": [
      "Index(['Id', 'Name', 'Gender', 'Job', 'House', 'Wand', 'Patronus', 'Species',\n",
      "       'Blood status', 'Hair colour', 'Eye colour', 'Loyalty', 'Skills',\n",
      "       'Birth', 'Death'],\n",
      "      dtype='object') \n",
      "\n",
      "Index(['Character', 'Sentence'], dtype='object')\n"
     ]
    }
   ],
   "source": [
    "# column names\n",
    "print(characters.columns,'\\n')\n",
    "print(hp1.columns)"
   ]
  },
  {
   "cell_type": "markdown",
   "id": "61896bf3",
   "metadata": {},
   "source": [
    "# Plots :\n",
    "### Characters with the most sentences\n",
    "#### top 15 of the first 3 movies "
   ]
  },
  {
   "cell_type": "code",
   "execution_count": 82,
   "id": "173002c5",
   "metadata": {},
   "outputs": [
    {
     "name": "stdout",
     "output_type": "stream",
     "text": [
      "     Character                                           Sentence CHARACTER  \\\n",
      "0   Dumbledore  I should've known that you would be here, Prof...       NaN   \n",
      "1   McGonagall                Good evening, Professor Dumbledore.       NaN   \n",
      "2   McGonagall                        Are the rumors true, Albus?       NaN   \n",
      "3   Dumbledore                          I'm afraid so, professor.       NaN   \n",
      "4   Dumbledore                              The good and the bad.       NaN   \n",
      "5   McGonagall                                       And the boy?       NaN   \n",
      "6   Dumbledore                            Hagrid is bringing him.       NaN   \n",
      "7   McGonagall  Do you think it wise to trust Hagrid with some...       NaN   \n",
      "8   Dumbledore  Ah, Professor, I would trust Hagrid with my life.       NaN   \n",
      "9       Hagrid                         Professor Dumbledore, sir.       NaN   \n",
      "10      Hagrid                              Professor McGonagall.       NaN   \n",
      "11  Dumbledore                      No problems, I trust, Hagrid?       NaN   \n",
      "12      Hagrid                                           No, sir.       NaN   \n",
      "13      Hagrid  Little tyke fell asleep just as we were flying...       NaN   \n",
      "14      Hagrid                               Try not to wake him.       NaN   \n",
      "15      Hagrid                                      There you go.       NaN   \n",
      "16  Dumbledore  Albus, do you really think it's safe, leaving ...       NaN   \n",
      "17  McGonagall                         I've watched them all day.       NaN   \n",
      "18  McGonagall     They're the worst sort of Muggles, imaginable.       NaN   \n",
      "19  McGonagall                                 They really are...       NaN   \n",
      "\n",
      "   SENTENCE  \n",
      "0       NaN  \n",
      "1       NaN  \n",
      "2       NaN  \n",
      "3       NaN  \n",
      "4       NaN  \n",
      "5       NaN  \n",
      "6       NaN  \n",
      "7       NaN  \n",
      "8       NaN  \n",
      "9       NaN  \n",
      "10      NaN  \n",
      "11      NaN  \n",
      "12      NaN  \n",
      "13      NaN  \n",
      "14      NaN  \n",
      "15      NaN  \n",
      "16      NaN  \n",
      "17      NaN  \n",
      "18      NaN  \n",
      "19      NaN  \n"
     ]
    }
   ],
   "source": [
    "# combine the 3 tables of scripts and reset index\n",
    "combined = pd.concat([hp1, hp2, hp3], ignore_index=True)"
   ]
  }
 ],
 "metadata": {
  "kernelspec": {
   "display_name": "Python 3 (ipykernel)",
   "language": "python",
   "name": "python3"
  },
  "language_info": {
   "codemirror_mode": {
    "name": "ipython",
    "version": 3
   },
   "file_extension": ".py",
   "mimetype": "text/x-python",
   "name": "python",
   "nbconvert_exporter": "python",
   "pygments_lexer": "ipython3",
   "version": "3.10.7"
  }
 },
 "nbformat": 4,
 "nbformat_minor": 5
}
