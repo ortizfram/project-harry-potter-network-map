{
 "cells": [
  {
   "cell_type": "markdown",
   "id": "36b44a2a",
   "metadata": {},
   "source": [
    "#### importing modules & reproducibility"
   ]
  },
  {
   "cell_type": "code",
   "execution_count": 3,
   "id": "607737c6",
   "metadata": {},
   "outputs": [],
   "source": [
    "# import modules\n",
    "import pandas as pd\n",
    "import seaborn as sns\n",
    "import numpy as np\n",
    "\n",
    "# Fixing random state for reproducibility\n",
    "np.random.seed(387)"
   ]
  },
  {
   "cell_type": "markdown",
   "id": "09bc3276",
   "metadata": {},
   "source": [
    "# Preprocessing"
   ]
  },
  {
   "cell_type": "code",
   "execution_count": 4,
   "id": "0af1cf55",
   "metadata": {},
   "outputs": [],
   "source": [
    "# read data\n",
    "characters = pd.read_csv('datasets/Characters.csv', sep=';')\n",
    "hp1 = pd.read_csv('datasets/Harry Potter 1.csv', sep=';')\n",
    "hp2 = pd.read_csv('datasets/Harry Potter 2.csv', sep=';')\n",
    "hp3 = pd.read_csv('datasets/Harry Potter 3.csv', sep=';')"
   ]
  },
  {
   "cell_type": "markdown",
   "id": "ff2be0dc",
   "metadata": {},
   "source": [
    "### profiling structure"
   ]
  },
  {
   "cell_type": "code",
   "execution_count": 42,
   "id": "b8471c2c",
   "metadata": {},
   "outputs": [
    {
     "name": "stdout",
     "output_type": "stream",
     "text": [
      "[       character                                           sentence\n",
      "0     dumbledore  i should've known that you would be here, prof...\n",
      "1     mcgonagall                good evening, professor dumbledore.\n",
      "2     mcgonagall                        are the rumors true, albus?\n",
      "3     dumbledore                          i'm afraid so, professor.\n",
      "4     dumbledore                              the good and the bad.\n",
      "...          ...                                                ...\n",
      "1582      hagrid  oh, listen, harry, if that dolt of a cousin of...\n",
      "1583       harry  but hagrid, we're not allowed to do magic away...\n",
      "1584      hagrid  i do. but your cousin don't, do he? eh? off yo...\n",
      "1585    hermione        feels strange to be going home, doesn't it?\n",
      "1586       harry                    i'm not going home. not really.\n",
      "\n",
      "[1587 rows x 2 columns],      character                                           sentence\n",
      "0       harry                       i can’t let you out, hedwig. \n",
      "1       harry    i’m not allowed to use magic outside of school. \n",
      "2       harry                           besides, if uncle vernon…\n",
      "3       vernon                                      harry potter!\n",
      "4        harry                                now you’ve done it.\n",
      "...        ...                                                ...\n",
      "1695    hagrid                                    sorry i'm late.\n",
      "1696    hagrid  the owl that delivered my release papers got a...\n",
      "1697    hagrid                      some ruddy bird called errol.\n",
      "1698    hagrid  and i'd just like to say that if it hadn't bee...\n",
      "1699     harry           there's no hogwarts without you, hagrid.\n",
      "\n",
      "[1700 rows x 2 columns]]\n"
     ]
    }
   ],
   "source": [
    "trilogy = [hp1, hp2, hp3]\n",
    "\n",
    "# changing columns and values to lower case\n",
    "'''if not other cols would be created because of name differences'''\n",
    "for book in trilogy:\n",
    "    book['character'] = book['character'].str.lower() # character column\n",
    "    book['sentence'] = book['sentence'].str.lower() # sentence column\n",
    "    book.columns = book.columns.str.lower()\n",
    "    \n",
    "print(trilogy[0:2])"
   ]
  },
  {
   "cell_type": "code",
   "execution_count": null,
   "id": "4d0ad004",
   "metadata": {},
   "outputs": [],
   "source": []
  },
  {
   "cell_type": "markdown",
   "id": "a7168499",
   "metadata": {},
   "source": [
    "#### inspecting tables"
   ]
  },
  {
   "cell_type": "code",
   "execution_count": 27,
   "id": "a1a1f0fe",
   "metadata": {},
   "outputs": [
    {
     "name": "stdout",
     "output_type": "stream",
     "text": [
      "Index(['id', 'name', 'gender', 'job', 'house', 'wand', 'patronus', 'species',\n",
      "       'blood status', 'hair colour', 'eye colour', 'loyalty', 'skills',\n",
      "       'birth', 'death'],\n",
      "      dtype='object') \n",
      "\n",
      "Index(['character', 'sentence'], dtype='object')\n"
     ]
    }
   ],
   "source": [
    "# column names\n",
    "print(characters.columns,'\\n')\n",
    "print(hp1.columns)"
   ]
  },
  {
   "cell_type": "code",
   "execution_count": 26,
   "id": "28b2a03f",
   "metadata": {},
   "outputs": [
    {
     "name": "stdout",
     "output_type": "stream",
     "text": [
      "hp1 shape: (1587, 2) \n",
      " hp2 shape: (1700, 2) \n",
      " hp3 shape: (1638, 2)\n"
     ]
    }
   ],
   "source": [
    "# 3 tables shapes\n",
    "print(\"hp1 shape:\", hp1.shape,'\\n',\n",
    "      \"hp2 shape:\", hp2.shape,'\\n',\n",
    "      \"hp3 shape:\", hp3.shape)"
   ]
  },
  {
   "cell_type": "markdown",
   "id": "ed8b46ca",
   "metadata": {},
   "source": [
    "# Plots :\n",
    "### Characters with the most sentences\n",
    "#### top 15 of the first 3 movies "
   ]
  },
  {
   "cell_type": "code",
   "execution_count": 28,
   "id": "e201f274",
   "metadata": {
    "scrolled": false
   },
   "outputs": [
    {
     "data": {
      "text/html": [
       "<div>\n",
       "<style scoped>\n",
       "    .dataframe tbody tr th:only-of-type {\n",
       "        vertical-align: middle;\n",
       "    }\n",
       "\n",
       "    .dataframe tbody tr th {\n",
       "        vertical-align: top;\n",
       "    }\n",
       "\n",
       "    .dataframe thead th {\n",
       "        text-align: right;\n",
       "    }\n",
       "</style>\n",
       "<table border=\"1\" class=\"dataframe\">\n",
       "  <thead>\n",
       "    <tr style=\"text-align: right;\">\n",
       "      <th></th>\n",
       "      <th>character</th>\n",
       "      <th>sentence</th>\n",
       "    </tr>\n",
       "  </thead>\n",
       "  <tbody>\n",
       "    <tr>\n",
       "      <th>0</th>\n",
       "      <td>dumbledore</td>\n",
       "      <td>I should've known that you would be here, Prof...</td>\n",
       "    </tr>\n",
       "    <tr>\n",
       "      <th>1</th>\n",
       "      <td>mcgonagall</td>\n",
       "      <td>Good evening, Professor Dumbledore.</td>\n",
       "    </tr>\n",
       "    <tr>\n",
       "      <th>2</th>\n",
       "      <td>mcgonagall</td>\n",
       "      <td>Are the rumors true, Albus?</td>\n",
       "    </tr>\n",
       "    <tr>\n",
       "      <th>3</th>\n",
       "      <td>dumbledore</td>\n",
       "      <td>I'm afraid so, professor.</td>\n",
       "    </tr>\n",
       "    <tr>\n",
       "      <th>4</th>\n",
       "      <td>dumbledore</td>\n",
       "      <td>The good and the bad.</td>\n",
       "    </tr>\n",
       "    <tr>\n",
       "      <th>...</th>\n",
       "      <td>...</td>\n",
       "      <td>...</td>\n",
       "    </tr>\n",
       "    <tr>\n",
       "      <th>4920</th>\n",
       "      <td>HERMIONE</td>\n",
       "      <td>How fast is it, Harry?</td>\n",
       "    </tr>\n",
       "    <tr>\n",
       "      <th>4921</th>\n",
       "      <td>HARRY</td>\n",
       "      <td>Lumos.</td>\n",
       "    </tr>\n",
       "    <tr>\n",
       "      <th>4922</th>\n",
       "      <td>HARRY</td>\n",
       "      <td>I solemnly swear that I am up to no good.</td>\n",
       "    </tr>\n",
       "    <tr>\n",
       "      <th>4923</th>\n",
       "      <td>HARRY</td>\n",
       "      <td>Mischief managed.</td>\n",
       "    </tr>\n",
       "    <tr>\n",
       "      <th>4924</th>\n",
       "      <td>HARRY</td>\n",
       "      <td>Nox.</td>\n",
       "    </tr>\n",
       "  </tbody>\n",
       "</table>\n",
       "<p>4925 rows × 2 columns</p>\n",
       "</div>"
      ],
      "text/plain": [
       "       character                                           sentence\n",
       "0     dumbledore  I should've known that you would be here, Prof...\n",
       "1     mcgonagall                Good evening, Professor Dumbledore.\n",
       "2     mcgonagall                        Are the rumors true, Albus?\n",
       "3     dumbledore                          I'm afraid so, professor.\n",
       "4     dumbledore                              The good and the bad.\n",
       "...          ...                                                ...\n",
       "4920    HERMIONE                             How fast is it, Harry?\n",
       "4921       HARRY                                             Lumos.\n",
       "4922       HARRY          I solemnly swear that I am up to no good.\n",
       "4923       HARRY                                  Mischief managed.\n",
       "4924       HARRY                                               Nox.\n",
       "\n",
       "[4925 rows x 2 columns]"
      ]
     },
     "execution_count": 28,
     "metadata": {},
     "output_type": "execute_result"
    }
   ],
   "source": [
    "# vertical append\n",
    "combined = pd.concat([hp1,hp2], ignore_index=True)\n",
    "combined = pd.concat([combined,hp3], ignore_index=True)\n",
    "combined"
   ]
  }
 ],
 "metadata": {
  "kernelspec": {
   "display_name": "Python 3 (ipykernel)",
   "language": "python",
   "name": "python3"
  },
  "language_info": {
   "codemirror_mode": {
    "name": "ipython",
    "version": 3
   },
   "file_extension": ".py",
   "mimetype": "text/x-python",
   "name": "python",
   "nbconvert_exporter": "python",
   "pygments_lexer": "ipython3",
   "version": "3.10.6"
  }
 },
 "nbformat": 4,
 "nbformat_minor": 5
}
