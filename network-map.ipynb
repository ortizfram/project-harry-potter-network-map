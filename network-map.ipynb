{
 "cells": [
  {
   "cell_type": "markdown",
   "id": "b54721fc",
   "metadata": {},
   "source": [
    "### importing and reading"
   ]
  },
  {
   "cell_type": "code",
   "execution_count": 1,
   "id": "607737c6",
   "metadata": {},
   "outputs": [],
   "source": [
    "# import modules\n",
    "import pandas as pd\n",
    "import seaborn as sns\n",
    "import numpy as np\n",
    "\n",
    "# Fixing random state for reproducibility\n",
    "np.random.seed(387)"
   ]
  },
  {
   "cell_type": "code",
   "execution_count": 9,
   "id": "631344e2",
   "metadata": {},
   "outputs": [],
   "source": [
    "# read data\n",
    "characters = pd.read_csv('datasets/Characters.csv', sep=';')\n",
    "hp1 = pd.read_csv('datasets/Harry Potter 1.csv', sep=';')\n",
    "hp2 = pd.read_csv('datasets/Harry Potter 2.csv', sep=';')\n",
    "hp3 = pd.read_csv('datasets/Harry Potter 3.csv', sep=';')"
   ]
  },
  {
   "cell_type": "markdown",
   "id": "7dc1e987",
   "metadata": {},
   "source": [
    "### getting column names, and table shapes"
   ]
  },
  {
   "cell_type": "code",
   "execution_count": 10,
   "id": "9a7aa3fb",
   "metadata": {
    "scrolled": true
   },
   "outputs": [
    {
     "name": "stdout",
     "output_type": "stream",
     "text": [
      "Index(['Id', 'Name', 'Gender', 'Job', 'House', 'Wand', 'Patronus', 'Species',\n",
      "       'Blood status', 'Hair colour', 'Eye colour', 'Loyalty', 'Skills',\n",
      "       'Birth', 'Death'],\n",
      "      dtype='object') \n",
      "\n",
      "Index(['Character', 'Sentence'], dtype='object')\n"
     ]
    }
   ],
   "source": [
    "# column names\n",
    "print(characters.columns,'\\n')\n",
    "print(hp1.columns)"
   ]
  },
  {
   "cell_type": "code",
   "execution_count": 11,
   "id": "28b2a03f",
   "metadata": {},
   "outputs": [
    {
     "name": "stdout",
     "output_type": "stream",
     "text": [
      "hp1 shape: (1587, 2) \n",
      " hp2 shape: (1700, 2) \n",
      " hp3 shape: (1638, 2)\n"
     ]
    }
   ],
   "source": [
    "# 3 tables shapes\n",
    "print(\"hp1 shape:\", hp1.shape,'\\n',\n",
    "      \"hp2 shape:\", hp2.shape,'\\n',\n",
    "      \"hp3 shape:\", hp3.shape)"
   ]
  },
  {
   "cell_type": "markdown",
   "id": "ed8b46ca",
   "metadata": {},
   "source": [
    "# Plots :\n",
    "### Characters with the most sentences\n",
    "#### top 15 of the first 3 movies "
   ]
  },
  {
   "cell_type": "code",
   "execution_count": 25,
   "id": "e201f274",
   "metadata": {
    "scrolled": false
   },
   "outputs": [
    {
     "data": {
      "text/html": [
       "<div>\n",
       "<style scoped>\n",
       "    .dataframe tbody tr th:only-of-type {\n",
       "        vertical-align: middle;\n",
       "    }\n",
       "\n",
       "    .dataframe tbody tr th {\n",
       "        vertical-align: top;\n",
       "    }\n",
       "\n",
       "    .dataframe thead th {\n",
       "        text-align: right;\n",
       "    }\n",
       "</style>\n",
       "<table border=\"1\" class=\"dataframe\">\n",
       "  <thead>\n",
       "    <tr style=\"text-align: right;\">\n",
       "      <th></th>\n",
       "      <th>Character</th>\n",
       "      <th>Sentence</th>\n",
       "      <th>CHARACTER</th>\n",
       "      <th>SENTENCE</th>\n",
       "    </tr>\n",
       "  </thead>\n",
       "  <tbody>\n",
       "    <tr>\n",
       "      <th>0</th>\n",
       "      <td>Dumbledore</td>\n",
       "      <td>I should've known that you would be here, Prof...</td>\n",
       "      <td>NaN</td>\n",
       "      <td>NaN</td>\n",
       "    </tr>\n",
       "    <tr>\n",
       "      <th>1</th>\n",
       "      <td>McGonagall</td>\n",
       "      <td>Good evening, Professor Dumbledore.</td>\n",
       "      <td>NaN</td>\n",
       "      <td>NaN</td>\n",
       "    </tr>\n",
       "    <tr>\n",
       "      <th>2</th>\n",
       "      <td>McGonagall</td>\n",
       "      <td>Are the rumors true, Albus?</td>\n",
       "      <td>NaN</td>\n",
       "      <td>NaN</td>\n",
       "    </tr>\n",
       "    <tr>\n",
       "      <th>3</th>\n",
       "      <td>Dumbledore</td>\n",
       "      <td>I'm afraid so, professor.</td>\n",
       "      <td>NaN</td>\n",
       "      <td>NaN</td>\n",
       "    </tr>\n",
       "    <tr>\n",
       "      <th>4</th>\n",
       "      <td>Dumbledore</td>\n",
       "      <td>The good and the bad.</td>\n",
       "      <td>NaN</td>\n",
       "      <td>NaN</td>\n",
       "    </tr>\n",
       "    <tr>\n",
       "      <th>...</th>\n",
       "      <td>...</td>\n",
       "      <td>...</td>\n",
       "      <td>...</td>\n",
       "      <td>...</td>\n",
       "    </tr>\n",
       "    <tr>\n",
       "      <th>4920</th>\n",
       "      <td>NaN</td>\n",
       "      <td>NaN</td>\n",
       "      <td>HERMIONE</td>\n",
       "      <td>How fast is it, Harry?</td>\n",
       "    </tr>\n",
       "    <tr>\n",
       "      <th>4921</th>\n",
       "      <td>NaN</td>\n",
       "      <td>NaN</td>\n",
       "      <td>HARRY</td>\n",
       "      <td>Lumos.</td>\n",
       "    </tr>\n",
       "    <tr>\n",
       "      <th>4922</th>\n",
       "      <td>NaN</td>\n",
       "      <td>NaN</td>\n",
       "      <td>HARRY</td>\n",
       "      <td>I solemnly swear that I am up to no good.</td>\n",
       "    </tr>\n",
       "    <tr>\n",
       "      <th>4923</th>\n",
       "      <td>NaN</td>\n",
       "      <td>NaN</td>\n",
       "      <td>HARRY</td>\n",
       "      <td>Mischief managed.</td>\n",
       "    </tr>\n",
       "    <tr>\n",
       "      <th>4924</th>\n",
       "      <td>NaN</td>\n",
       "      <td>NaN</td>\n",
       "      <td>HARRY</td>\n",
       "      <td>Nox.</td>\n",
       "    </tr>\n",
       "  </tbody>\n",
       "</table>\n",
       "<p>4925 rows × 4 columns</p>\n",
       "</div>"
      ],
      "text/plain": [
       "       Character                                           Sentence CHARACTER  \\\n",
       "0     Dumbledore  I should've known that you would be here, Prof...       NaN   \n",
       "1     McGonagall                Good evening, Professor Dumbledore.       NaN   \n",
       "2     McGonagall                        Are the rumors true, Albus?       NaN   \n",
       "3     Dumbledore                          I'm afraid so, professor.       NaN   \n",
       "4     Dumbledore                              The good and the bad.       NaN   \n",
       "...          ...                                                ...       ...   \n",
       "4920         NaN                                                NaN  HERMIONE   \n",
       "4921         NaN                                                NaN     HARRY   \n",
       "4922         NaN                                                NaN     HARRY   \n",
       "4923         NaN                                                NaN     HARRY   \n",
       "4924         NaN                                                NaN     HARRY   \n",
       "\n",
       "                                       SENTENCE  \n",
       "0                                           NaN  \n",
       "1                                           NaN  \n",
       "2                                           NaN  \n",
       "3                                           NaN  \n",
       "4                                           NaN  \n",
       "...                                         ...  \n",
       "4920                     How fast is it, Harry?  \n",
       "4921                                     Lumos.  \n",
       "4922  I solemnly swear that I am up to no good.  \n",
       "4923                          Mischief managed.  \n",
       "4924                                       Nox.  \n",
       "\n",
       "[4925 rows x 4 columns]"
      ]
     },
     "execution_count": 25,
     "metadata": {},
     "output_type": "execute_result"
    }
   ],
   "source": [
    "# vertical append\n",
    "combined = pd.concat([hp1,hp2], ignore_index=True)\n",
    "combined = pd.concat([combined,hp3], ignore_index=True)\n",
    "combined"
   ]
  }
 ],
 "metadata": {
  "kernelspec": {
   "display_name": "Python 3 (ipykernel)",
   "language": "python",
   "name": "python3"
  },
  "language_info": {
   "codemirror_mode": {
    "name": "ipython",
    "version": 3
   },
   "file_extension": ".py",
   "mimetype": "text/x-python",
   "name": "python",
   "nbconvert_exporter": "python",
   "pygments_lexer": "ipython3",
   "version": "3.10.7"
  }
 },
 "nbformat": 4,
 "nbformat_minor": 5
}
