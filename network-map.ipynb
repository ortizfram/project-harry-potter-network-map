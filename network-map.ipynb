{
 "cells": [
  {
   "cell_type": "markdown",
   "id": "36b44a2a",
   "metadata": {},
   "source": [
    "#### importing modules & reproducibility"
   ]
  },
  {
   "cell_type": "code",
   "execution_count": 26,
   "id": "607737c6",
   "metadata": {},
   "outputs": [],
   "source": [
    "# import modules\n",
    "import pandas as pd\n",
    "import seaborn as sns\n",
    "import numpy as np\n",
    "from matplotlib import pyplot as plt\n",
    "\n",
    "# Fixing random state for reproducibility\n",
    "np.random.seed(387)"
   ]
  },
  {
   "cell_type": "markdown",
   "id": "09bc3276",
   "metadata": {},
   "source": [
    "# ***Preprocessing***"
   ]
  },
  {
   "cell_type": "code",
   "execution_count": 27,
   "id": "0af1cf55",
   "metadata": {},
   "outputs": [],
   "source": [
    "# read data\n",
    "characters = pd.read_csv('datasets/Characters.csv', sep=';')\n",
    "hp1 = pd.read_csv('datasets/Harry Potter 1.csv', sep=';')\n",
    "hp2 = pd.read_csv('datasets/Harry Potter 2.csv', sep=';')\n",
    "hp3 = pd.read_csv('datasets/Harry Potter 3.csv', sep=';')"
   ]
  },
  {
   "cell_type": "markdown",
   "id": "ff2be0dc",
   "metadata": {},
   "source": [
    "## ***profiling structure***\n",
    "### fixing books data"
   ]
  },
  {
   "cell_type": "code",
   "execution_count": 28,
   "id": "b8471c2c",
   "metadata": {},
   "outputs": [],
   "source": [
    "trilogy = [hp1, hp2, hp3] \n",
    "\n",
    "# changing books columns and values to lower case\n",
    "'''if not other cols would be created because of name differences'''\n",
    "for book in trilogy:\n",
    "    book.columns = hp1.columns.str.lower()\n",
    "    book['character'] = book['character'].str.lower() # character column\n",
    "    book['sentence'] = book['sentence'].str.lower()   # sentence column"
   ]
  },
  {
   "cell_type": "code",
   "execution_count": 29,
   "id": "e9840d00",
   "metadata": {
    "scrolled": false
   },
   "outputs": [
    {
     "data": {
      "text/html": [
       "<div>\n",
       "<style scoped>\n",
       "    .dataframe tbody tr th:only-of-type {\n",
       "        vertical-align: middle;\n",
       "    }\n",
       "\n",
       "    .dataframe tbody tr th {\n",
       "        vertical-align: top;\n",
       "    }\n",
       "\n",
       "    .dataframe thead th {\n",
       "        text-align: right;\n",
       "    }\n",
       "</style>\n",
       "<table border=\"1\" class=\"dataframe\">\n",
       "  <thead>\n",
       "    <tr style=\"text-align: right;\">\n",
       "      <th></th>\n",
       "      <th>character</th>\n",
       "      <th>sentence</th>\n",
       "    </tr>\n",
       "  </thead>\n",
       "  <tbody>\n",
       "    <tr>\n",
       "      <th>0</th>\n",
       "      <td>dumbledore</td>\n",
       "      <td>i should've known that you would be here, prof...</td>\n",
       "    </tr>\n",
       "    <tr>\n",
       "      <th>1</th>\n",
       "      <td>mcgonagall</td>\n",
       "      <td>good evening, professor dumbledore.</td>\n",
       "    </tr>\n",
       "    <tr>\n",
       "      <th>2</th>\n",
       "      <td>mcgonagall</td>\n",
       "      <td>are the rumors true, albus?</td>\n",
       "    </tr>\n",
       "    <tr>\n",
       "      <th>3</th>\n",
       "      <td>dumbledore</td>\n",
       "      <td>i'm afraid so, professor.</td>\n",
       "    </tr>\n",
       "    <tr>\n",
       "      <th>4</th>\n",
       "      <td>dumbledore</td>\n",
       "      <td>the good and the bad.</td>\n",
       "    </tr>\n",
       "  </tbody>\n",
       "</table>\n",
       "</div>"
      ],
      "text/plain": [
       "    character                                           sentence\n",
       "0  dumbledore  i should've known that you would be here, prof...\n",
       "1  mcgonagall                good evening, professor dumbledore.\n",
       "2  mcgonagall                        are the rumors true, albus?\n",
       "3  dumbledore                          i'm afraid so, professor.\n",
       "4  dumbledore                              the good and the bad."
      ]
     },
     "execution_count": 29,
     "metadata": {},
     "output_type": "execute_result"
    }
   ],
   "source": [
    "# vertical concatenation of books\n",
    "combined = pd.concat([hp1, hp2, hp3], ignore_index=True)\n",
    "combined.head()"
   ]
  },
  {
   "cell_type": "code",
   "execution_count": null,
   "id": "eed4a2b0",
   "metadata": {},
   "outputs": [],
   "source": []
  },
  {
   "cell_type": "markdown",
   "id": "f9ca885d",
   "metadata": {},
   "source": [
    "### fixing characters data"
   ]
  },
  {
   "cell_type": "code",
   "execution_count": 30,
   "id": "5c5b2765",
   "metadata": {},
   "outputs": [],
   "source": [
    "# changing books columns and values to lower case\n",
    "'''if not other cols would be created because of name differences'''\n",
    "characters.columns = characters.columns.str.lower()"
   ]
  },
  {
   "cell_type": "code",
   "execution_count": 47,
   "id": "efad4282",
   "metadata": {},
   "outputs": [],
   "source": [
    "# columns to date format\n",
    "characters['birth'] = pd.to_datetime(characters['birth'], errors='coerce')\n",
    "characters['death'] = pd.to_datetime(characters['death'], errors='coerce')"
   ]
  },
  {
   "cell_type": "code",
   "execution_count": 50,
   "id": "21abf55f",
   "metadata": {},
   "outputs": [],
   "source": [
    "# get non numerical values\n",
    "non_numerical = characters.select_dtypes(exclude=['int64','float64','datetime','timedelta'])"
   ]
  },
  {
   "cell_type": "code",
   "execution_count": 52,
   "id": "d4d1c28e",
   "metadata": {},
   "outputs": [
    {
     "ename": "TypeError",
     "evalue": "string operation on non-string array",
     "output_type": "error",
     "traceback": [
      "\u001b[1;31m---------------------------------------------------------------------------\u001b[0m",
      "\u001b[1;31mTypeError\u001b[0m                                 Traceback (most recent call last)",
      "Cell \u001b[1;32mIn[52], line 3\u001b[0m\n\u001b[0;32m      1\u001b[0m \u001b[38;5;66;03m# transform to dataframe\u001b[39;00m\n\u001b[0;32m      2\u001b[0m characters \u001b[38;5;241m=\u001b[39m pd\u001b[38;5;241m.\u001b[39mDataFrame(characters)\n\u001b[1;32m----> 3\u001b[0m \u001b[43mnp\u001b[49m\u001b[38;5;241;43m.\u001b[39;49m\u001b[43mchar\u001b[49m\u001b[38;5;241;43m.\u001b[39;49m\u001b[43mlower\u001b[49m\u001b[43m(\u001b[49m\u001b[43mnon_numerical\u001b[49m\u001b[43m)\u001b[49m\n",
      "File \u001b[1;32m<__array_function__ internals>:180\u001b[0m, in \u001b[0;36mlower\u001b[1;34m(*args, **kwargs)\u001b[0m\n",
      "File \u001b[1;32mC:\\Python310\\lib\\site-packages\\numpy\\core\\defchararray.py:1036\u001b[0m, in \u001b[0;36mlower\u001b[1;34m(a)\u001b[0m\n\u001b[0;32m   1006\u001b[0m \u001b[38;5;250m\u001b[39m\u001b[38;5;124;03m\"\"\"\u001b[39;00m\n\u001b[0;32m   1007\u001b[0m \u001b[38;5;124;03mReturn an array with the elements converted to lowercase.\u001b[39;00m\n\u001b[0;32m   1008\u001b[0m \n\u001b[1;32m   (...)\u001b[0m\n\u001b[0;32m   1033\u001b[0m \n\u001b[0;32m   1034\u001b[0m \u001b[38;5;124;03m\"\"\"\u001b[39;00m\n\u001b[0;32m   1035\u001b[0m a_arr \u001b[38;5;241m=\u001b[39m numpy\u001b[38;5;241m.\u001b[39masarray(a)\n\u001b[1;32m-> 1036\u001b[0m \u001b[38;5;28;01mreturn\u001b[39;00m \u001b[43m_vec_string\u001b[49m\u001b[43m(\u001b[49m\u001b[43ma_arr\u001b[49m\u001b[43m,\u001b[49m\u001b[43m \u001b[49m\u001b[43ma_arr\u001b[49m\u001b[38;5;241;43m.\u001b[39;49m\u001b[43mdtype\u001b[49m\u001b[43m,\u001b[49m\u001b[43m \u001b[49m\u001b[38;5;124;43m'\u001b[39;49m\u001b[38;5;124;43mlower\u001b[39;49m\u001b[38;5;124;43m'\u001b[39;49m\u001b[43m)\u001b[49m\n",
      "\u001b[1;31mTypeError\u001b[0m: string operation on non-string array"
     ]
    }
   ],
   "source": [
    "# transform to dataframe\n",
    "characters = pd.DataFrame(characters)\n",
    "characters"
   ]
  },
  {
   "cell_type": "markdown",
   "id": "a7168499",
   "metadata": {},
   "source": [
    "#### inspecting tables"
   ]
  },
  {
   "cell_type": "code",
   "execution_count": 11,
   "id": "a1a1f0fe",
   "metadata": {},
   "outputs": [
    {
     "name": "stdout",
     "output_type": "stream",
     "text": [
      "Index(['id', 'name', 'gender', 'job', 'house', 'wand', 'patronus', 'species',\n",
      "       'blood status', 'hair colour', 'eye colour', 'loyalty', 'skills',\n",
      "       'birth', 'death'],\n",
      "      dtype='object') \n",
      "\n",
      "Index(['character', 'sentence'], dtype='object')\n"
     ]
    }
   ],
   "source": [
    "# column names\n",
    "print(characters.columns,'\\n')\n",
    "print(hp1.columns)"
   ]
  },
  {
   "cell_type": "markdown",
   "id": "ed8b46ca",
   "metadata": {},
   "source": [
    "# Plots :\n",
    "### Characters with the most sentences\n",
    "#### top 15 of the first 3 movies "
   ]
  }
 ],
 "metadata": {
  "kernelspec": {
   "display_name": "Python 3 (ipykernel)",
   "language": "python",
   "name": "python3"
  },
  "language_info": {
   "codemirror_mode": {
    "name": "ipython",
    "version": 3
   },
   "file_extension": ".py",
   "mimetype": "text/x-python",
   "name": "python",
   "nbconvert_exporter": "python",
   "pygments_lexer": "ipython3",
   "version": "3.10.7"
  }
 },
 "nbformat": 4,
 "nbformat_minor": 5
}
