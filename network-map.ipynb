{
 "cells": [
  {
   "cell_type": "code",
   "execution_count": 33,
   "id": "607737c6",
   "metadata": {},
   "outputs": [],
   "source": [
    "# import modules\n",
    "import pandas as pd"
   ]
  },
  {
   "cell_type": "code",
   "execution_count": 41,
   "id": "631344e2",
   "metadata": {},
   "outputs": [],
   "source": [
    "# read data\n",
    "characters = pd.read_csv('datasets/Characters.csv', sep=';')\n",
    "hp1 = pd.read_csv('datasets/Harry Potter 1.csv', sep=';')\n",
    "hp2 = pd.read_csv('datasets/Harry Potter 2.csv', sep=';')\n",
    "hp3 = pd.read_csv('datasets/Harry Potter 3.csv', sep=';')"
   ]
  },
  {
   "cell_type": "code",
   "execution_count": null,
   "id": "3c1e7d59",
   "metadata": {},
   "outputs": [],
   "source": []
  },
  {
   "cell_type": "code",
   "execution_count": 52,
   "id": "d5030ede",
   "metadata": {},
   "outputs": [
    {
     "name": "stdout",
     "output_type": "stream",
     "text": [
      "Index(['Id', 'Name', 'Gender', 'Job', 'House', 'Wand', 'Patronus', 'Species',\n",
      "       'Blood status', 'Hair colour', 'Eye colour', 'Loyalty', 'Skills',\n",
      "       'Birth', 'Death'],\n",
      "      dtype='object') \n",
      "\n",
      "Index(['Character', 'Sentence'], dtype='object')\n"
     ]
    }
   ],
   "source": [
    "# column names\n",
    "print(characters.columns,'\\n')\n",
    "print(hp1.columns)"
   ]
  }
 ],
 "metadata": {
  "kernelspec": {
   "display_name": "Python 3 (ipykernel)",
   "language": "python",
   "name": "python3"
  },
  "language_info": {
   "codemirror_mode": {
    "name": "ipython",
    "version": 3
   },
   "file_extension": ".py",
   "mimetype": "text/x-python",
   "name": "python",
   "nbconvert_exporter": "python",
   "pygments_lexer": "ipython3",
   "version": "3.10.7"
  }
 },
 "nbformat": 4,
 "nbformat_minor": 5
}
