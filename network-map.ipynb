{
 "cells": [
  {
   "cell_type": "markdown",
   "id": "36b44a2a",
   "metadata": {},
   "source": [
    "#### importing modules & reproducibility"
   ]
  },
  {
   "cell_type": "code",
   "execution_count": 42,
   "id": "607737c6",
   "metadata": {},
   "outputs": [],
   "source": [
    "# import modules\n",
    "import pandas as pd\n",
    "import seaborn as sns\n",
    "import numpy as np\n",
    "from matplotlib import pyplot as plt\n",
    "\n",
    "# Fixing random state for reproducibility\n",
    "np.random.seed(387)"
   ]
  },
  {
   "cell_type": "markdown",
   "id": "09bc3276",
   "metadata": {},
   "source": [
    "# ***Preprocessing***"
   ]
  },
  {
   "cell_type": "code",
   "execution_count": 21,
   "id": "0af1cf55",
   "metadata": {},
   "outputs": [],
   "source": [
    "# read data\n",
    "characters = pd.read_csv('datasets/Characters.csv', sep=';')\n",
    "hp1 = pd.read_csv('datasets/Harry Potter 1.csv', sep=';')\n",
    "hp2 = pd.read_csv('datasets/Harry Potter 2.csv', sep=';')\n",
    "hp3 = pd.read_csv('datasets/Harry Potter 3.csv', sep=';')"
   ]
  },
  {
   "cell_type": "markdown",
   "id": "ff2be0dc",
   "metadata": {},
   "source": [
    "## ***profiling structure***\n",
    "### fixing books data"
   ]
  },
  {
   "cell_type": "code",
   "execution_count": 22,
   "id": "b8471c2c",
   "metadata": {},
   "outputs": [],
   "source": [
    "trilogy = [hp1, hp2, hp3] \n",
    "\n",
    "# changing books columns and values to lower case\n",
    "'''if not other cols would be created because of name differences'''\n",
    "for book in trilogy:\n",
    "    book.columns = hp1.columns.str.lower()\n",
    "    book['character'] = book['character'].str.lower() # character column\n",
    "    book['sentence'] = book['sentence'].str.lower()   # sentence column"
   ]
  },
  {
   "cell_type": "code",
   "execution_count": 23,
   "id": "e9840d00",
   "metadata": {
    "scrolled": false
   },
   "outputs": [
    {
     "data": {
      "text/html": [
       "<div>\n",
       "<style scoped>\n",
       "    .dataframe tbody tr th:only-of-type {\n",
       "        vertical-align: middle;\n",
       "    }\n",
       "\n",
       "    .dataframe tbody tr th {\n",
       "        vertical-align: top;\n",
       "    }\n",
       "\n",
       "    .dataframe thead th {\n",
       "        text-align: right;\n",
       "    }\n",
       "</style>\n",
       "<table border=\"1\" class=\"dataframe\">\n",
       "  <thead>\n",
       "    <tr style=\"text-align: right;\">\n",
       "      <th></th>\n",
       "      <th>character</th>\n",
       "      <th>sentence</th>\n",
       "    </tr>\n",
       "  </thead>\n",
       "  <tbody>\n",
       "    <tr>\n",
       "      <th>0</th>\n",
       "      <td>dumbledore</td>\n",
       "      <td>i should've known that you would be here, prof...</td>\n",
       "    </tr>\n",
       "    <tr>\n",
       "      <th>1</th>\n",
       "      <td>mcgonagall</td>\n",
       "      <td>good evening, professor dumbledore.</td>\n",
       "    </tr>\n",
       "    <tr>\n",
       "      <th>2</th>\n",
       "      <td>mcgonagall</td>\n",
       "      <td>are the rumors true, albus?</td>\n",
       "    </tr>\n",
       "    <tr>\n",
       "      <th>3</th>\n",
       "      <td>dumbledore</td>\n",
       "      <td>i'm afraid so, professor.</td>\n",
       "    </tr>\n",
       "    <tr>\n",
       "      <th>4</th>\n",
       "      <td>dumbledore</td>\n",
       "      <td>the good and the bad.</td>\n",
       "    </tr>\n",
       "  </tbody>\n",
       "</table>\n",
       "</div>"
      ],
      "text/plain": [
       "    character                                           sentence\n",
       "0  dumbledore  i should've known that you would be here, prof...\n",
       "1  mcgonagall                good evening, professor dumbledore.\n",
       "2  mcgonagall                        are the rumors true, albus?\n",
       "3  dumbledore                          i'm afraid so, professor.\n",
       "4  dumbledore                              the good and the bad."
      ]
     },
     "execution_count": 23,
     "metadata": {},
     "output_type": "execute_result"
    }
   ],
   "source": [
    "# vertical concatenation of books\n",
    "combined = pd.concat([hp1, hp2, hp3], ignore_index=True)\n",
    "combined.head()"
   ]
  },
  {
   "cell_type": "code",
   "execution_count": null,
   "id": "eed4a2b0",
   "metadata": {},
   "outputs": [],
   "source": []
  },
  {
   "cell_type": "markdown",
   "id": "f9ca885d",
   "metadata": {},
   "source": [
    "### fixing characters data"
   ]
  },
  {
   "cell_type": "code",
   "execution_count": 24,
   "id": "5c5b2765",
   "metadata": {},
   "outputs": [],
   "source": [
    "# changing books columns and values to lower case\n",
    "'''if not other cols would be created because of name differences'''\n",
    "characters.columns = characters.columns.str.lower()"
   ]
  },
  {
   "cell_type": "code",
   "execution_count": 25,
   "id": "efad4282",
   "metadata": {},
   "outputs": [],
   "source": [
    "# columns to date format\n",
    "characters['birth'] = pd.to_datetime(characters['birth'], errors='coerce')\\\n",
    "                                    .dt.strftime('%m-%d-%Y')\n",
    "characters['death'] = pd.to_datetime(characters['death'], errors='coerce')\\\n",
    "                                    .dt.strftime('%m-%d-%Y')"
   ]
  },
  {
   "cell_type": "code",
   "execution_count": null,
   "id": "ad1e9110",
   "metadata": {},
   "outputs": [],
   "source": []
  },
  {
   "cell_type": "markdown",
   "id": "a7168499",
   "metadata": {},
   "source": [
    "#### inspecting tables"
   ]
  },
  {
   "cell_type": "code",
   "execution_count": 32,
   "id": "a1a1f0fe",
   "metadata": {},
   "outputs": [
    {
     "name": "stdout",
     "output_type": "stream",
     "text": [
      "Index(['id', 'name', 'gender', 'job', 'house', 'wand', 'patronus', 'species',\n",
      "       'blood status', 'hair colour', 'eye colour', 'loyalty', 'skills',\n",
      "       'birth', 'death'],\n",
      "      dtype='object') \n",
      "\n",
      "Index(['character', 'sentence'], dtype='object')\n"
     ]
    },
    {
     "data": {
      "text/html": [
       "<div>\n",
       "<style scoped>\n",
       "    .dataframe tbody tr th:only-of-type {\n",
       "        vertical-align: middle;\n",
       "    }\n",
       "\n",
       "    .dataframe tbody tr th {\n",
       "        vertical-align: top;\n",
       "    }\n",
       "\n",
       "    .dataframe thead th {\n",
       "        text-align: right;\n",
       "    }\n",
       "</style>\n",
       "<table border=\"1\" class=\"dataframe\">\n",
       "  <thead>\n",
       "    <tr style=\"text-align: right;\">\n",
       "      <th></th>\n",
       "      <th>id</th>\n",
       "      <th>name</th>\n",
       "      <th>gender</th>\n",
       "      <th>job</th>\n",
       "      <th>house</th>\n",
       "      <th>wand</th>\n",
       "      <th>patronus</th>\n",
       "      <th>species</th>\n",
       "      <th>blood status</th>\n",
       "      <th>hair colour</th>\n",
       "      <th>eye colour</th>\n",
       "      <th>loyalty</th>\n",
       "      <th>skills</th>\n",
       "      <th>birth</th>\n",
       "      <th>death</th>\n",
       "    </tr>\n",
       "  </thead>\n",
       "  <tbody>\n",
       "    <tr>\n",
       "      <th>137</th>\n",
       "      <td>138</td>\n",
       "      <td>Gellert Grindelwald</td>\n",
       "      <td>Male</td>\n",
       "      <td>Revolutionary leader(c. 1920s[6] – 1945)</td>\n",
       "      <td>NaN</td>\n",
       "      <td>15\", Elder, Thestral tail hair core</td>\n",
       "      <td>NaN</td>\n",
       "      <td>Human</td>\n",
       "      <td>Pure-blood or half-blood</td>\n",
       "      <td>Blond</td>\n",
       "      <td>Blue</td>\n",
       "      <td>Gellert Grindelwald's Acolytes</td>\n",
       "      <td>Duelling</td>\n",
       "      <td>01-01-1883</td>\n",
       "      <td>03-01-1998</td>\n",
       "    </tr>\n",
       "    <tr>\n",
       "      <th>138</th>\n",
       "      <td>139</td>\n",
       "      <td>Dobby</td>\n",
       "      <td>Male</td>\n",
       "      <td>Malfoy family's house-elf (? - 1993),\\nHogwart...</td>\n",
       "      <td>NaN</td>\n",
       "      <td>NaN</td>\n",
       "      <td>NaN</td>\n",
       "      <td>House elf</td>\n",
       "      <td>NaN</td>\n",
       "      <td>Green</td>\n",
       "      <td>NaN</td>\n",
       "      <td>NaN</td>\n",
       "      <td>A type of magic specific to house-elves, perfo...</td>\n",
       "      <td>NaN</td>\n",
       "      <td>NaN</td>\n",
       "    </tr>\n",
       "    <tr>\n",
       "      <th>139</th>\n",
       "      <td>140</td>\n",
       "      <td>Kreacher</td>\n",
       "      <td>Male</td>\n",
       "      <td>\\nBlack family's house-elf (?-1996), \\nHarry P...</td>\n",
       "      <td>NaN</td>\n",
       "      <td>NaN</td>\n",
       "      <td>NaN</td>\n",
       "      <td>House elf</td>\n",
       "      <td>NaN</td>\n",
       "      <td>White</td>\n",
       "      <td>NaN</td>\n",
       "      <td>NaN</td>\n",
       "      <td>Magic performed without a wand which includes ...</td>\n",
       "      <td>NaN</td>\n",
       "      <td>NaN</td>\n",
       "    </tr>\n",
       "  </tbody>\n",
       "</table>\n",
       "</div>"
      ],
      "text/plain": [
       "      id                 name gender  \\\n",
       "137  138  Gellert Grindelwald   Male   \n",
       "138  139                Dobby   Male   \n",
       "139  140             Kreacher   Male   \n",
       "\n",
       "                                                   job house  \\\n",
       "137           Revolutionary leader(c. 1920s[6] – 1945)   NaN   \n",
       "138  Malfoy family's house-elf (? - 1993),\\nHogwart...   NaN   \n",
       "139  \\nBlack family's house-elf (?-1996), \\nHarry P...   NaN   \n",
       "\n",
       "                                    wand patronus    species  \\\n",
       "137  15\", Elder, Thestral tail hair core      NaN     Human    \n",
       "138                                  NaN      NaN  House elf   \n",
       "139                                  NaN      NaN  House elf   \n",
       "\n",
       "                 blood status hair colour eye colour  \\\n",
       "137  Pure-blood or half-blood       Blond       Blue   \n",
       "138                       NaN       Green        NaN   \n",
       "139                       NaN       White        NaN   \n",
       "\n",
       "                            loyalty  \\\n",
       "137  Gellert Grindelwald's Acolytes   \n",
       "138                             NaN   \n",
       "139                             NaN   \n",
       "\n",
       "                                                skills       birth       death  \n",
       "137                                           Duelling  01-01-1883  03-01-1998  \n",
       "138  A type of magic specific to house-elves, perfo...         NaN         NaN  \n",
       "139  Magic performed without a wand which includes ...         NaN         NaN  "
      ]
     },
     "execution_count": 32,
     "metadata": {},
     "output_type": "execute_result"
    }
   ],
   "source": [
    "# column names\n",
    "print(characters.columns,'\\n')\n",
    "print(hp1.columns)\n",
    "characters"
   ]
  },
  {
   "cell_type": "markdown",
   "id": "ed8b46ca",
   "metadata": {},
   "source": [
    "# Plots :\n",
    "### Characters with the most sentences\n",
    "#### top 15 of the first 3 movies "
   ]
  },
  {
   "cell_type": "code",
   "execution_count": 49,
   "id": "d27eeb1e",
   "metadata": {},
   "outputs": [
    {
     "data": {
      "text/plain": [
       "\"plt.barh(x= combined['character'], y=combined['sentence'].count(), wi)\\n\\nplt.title('top 15 Characters with the most sentences')\\nplt.ylabel('number of sentences')\\nplt.xlabel('character')\\nplt.show()\""
      ]
     },
     "execution_count": 49,
     "metadata": {},
     "output_type": "execute_result"
    }
   ],
   "source": [
    "'''plt.barh(x= combined['character'], y=combined['sentence'].count(), wi)\n",
    "\n",
    "plt.title('top 15 Characters with the most sentences')\n",
    "plt.ylabel('number of sentences')\n",
    "plt.xlabel('character')\n",
    "plt.show()'''"
   ]
  },
  {
   "cell_type": "code",
   "execution_count": 51,
   "id": "8cc4354c",
   "metadata": {},
   "outputs": [
    {
     "ename": "TypeError",
     "evalue": "count() takes at least 1 argument (0 given)",
     "output_type": "error",
     "traceback": [
      "\u001b[1;31m---------------------------------------------------------------------------\u001b[0m",
      "\u001b[1;31mTypeError\u001b[0m                                 Traceback (most recent call last)",
      "Cell \u001b[1;32mIn[51], line 1\u001b[0m\n\u001b[1;32m----> 1\u001b[0m sns\u001b[38;5;241m.\u001b[39mbarplot(data\u001b[38;5;241m=\u001b[39mcombined, x\u001b[38;5;241m=\u001b[39m\u001b[38;5;124m'\u001b[39m\u001b[38;5;124mcharacter\u001b[39m\u001b[38;5;124m'\u001b[39m, y\u001b[38;5;241m=\u001b[39m\u001b[38;5;124;43m'\u001b[39;49m\u001b[38;5;124;43msentence\u001b[39;49m\u001b[38;5;124;43m'\u001b[39;49m\u001b[38;5;241;43m.\u001b[39;49m\u001b[43mcount\u001b[49m\u001b[43m(\u001b[49m\u001b[43m)\u001b[49m , hue\u001b[38;5;241m=\u001b[39m\u001b[38;5;124m'\u001b[39m\u001b[38;5;124mcharacter\u001b[39m\u001b[38;5;124m'\u001b[39m)\n",
      "\u001b[1;31mTypeError\u001b[0m: count() takes at least 1 argument (0 given)"
     ]
    }
   ],
   "source": [
    "sns.barplot(data=combined, x='character', y='sentence'.count() , hue='character')"
   ]
  }
 ],
 "metadata": {
  "kernelspec": {
   "display_name": "Python 3 (ipykernel)",
   "language": "python",
   "name": "python3"
  },
  "language_info": {
   "codemirror_mode": {
    "name": "ipython",
    "version": 3
   },
   "file_extension": ".py",
   "mimetype": "text/x-python",
   "name": "python",
   "nbconvert_exporter": "python",
   "pygments_lexer": "ipython3",
   "version": "3.10.7"
  }
 },
 "nbformat": 4,
 "nbformat_minor": 5
}
