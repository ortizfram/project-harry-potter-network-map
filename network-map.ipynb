{
 "cells": [
  {
   "cell_type": "markdown",
   "id": "36b44a2a",
   "metadata": {},
   "source": [
    "#### importing modules & reproducibility"
   ]
  },
  {
   "cell_type": "code",
   "execution_count": 1,
   "id": "607737c6",
   "metadata": {},
   "outputs": [],
   "source": [
    "# import modules\n",
    "import pandas as pd\n",
    "import seaborn as sns\n",
    "import numpy as np\n",
    "from matplotlib import pyplot as plt\n",
    "\n",
    "# Fixing random state for reproducibility\n",
    "np.random.seed(387)"
   ]
  },
  {
   "cell_type": "markdown",
   "id": "09bc3276",
   "metadata": {},
   "source": [
    "# ***Preprocessing***"
   ]
  },
  {
   "cell_type": "code",
   "execution_count": 2,
   "id": "0af1cf55",
   "metadata": {},
   "outputs": [],
   "source": [
    "# read data\n",
    "characters = pd.read_csv('datasets/Characters.csv', sep=';')\n",
    "hp1 = pd.read_csv('datasets/Harry Potter 1.csv', sep=';')\n",
    "hp2 = pd.read_csv('datasets/Harry Potter 2.csv', sep=';')\n",
    "hp3 = pd.read_csv('datasets/Harry Potter 3.csv', sep=';')"
   ]
  },
  {
   "cell_type": "markdown",
   "id": "ff2be0dc",
   "metadata": {},
   "source": [
    "## ***profiling structure***\n",
    "### fixing books data"
   ]
  },
  {
   "cell_type": "code",
   "execution_count": 3,
   "id": "b8471c2c",
   "metadata": {},
   "outputs": [],
   "source": [
    "trilogy = [hp1, hp2, hp3] \n",
    "\n",
    "# changing books columns and values to lower case\n",
    "'''if not other cols would be created because of name differences'''\n",
    "for book in trilogy:\n",
    "    book.columns = hp1.columns.str.lower()\n",
    "    book['character'] = book['character'].str.lower() # character column\n",
    "    book['sentence'] = book['sentence'].str.lower()   # sentence column"
   ]
  },
  {
   "cell_type": "code",
   "execution_count": 4,
   "id": "e9840d00",
   "metadata": {
    "scrolled": false
   },
   "outputs": [
    {
     "data": {
      "text/html": [
       "<div>\n",
       "<style scoped>\n",
       "    .dataframe tbody tr th:only-of-type {\n",
       "        vertical-align: middle;\n",
       "    }\n",
       "\n",
       "    .dataframe tbody tr th {\n",
       "        vertical-align: top;\n",
       "    }\n",
       "\n",
       "    .dataframe thead th {\n",
       "        text-align: right;\n",
       "    }\n",
       "</style>\n",
       "<table border=\"1\" class=\"dataframe\">\n",
       "  <thead>\n",
       "    <tr style=\"text-align: right;\">\n",
       "      <th></th>\n",
       "      <th>character</th>\n",
       "      <th>sentence</th>\n",
       "    </tr>\n",
       "  </thead>\n",
       "  <tbody>\n",
       "    <tr>\n",
       "      <th>0</th>\n",
       "      <td>dumbledore</td>\n",
       "      <td>i should've known that you would be here, prof...</td>\n",
       "    </tr>\n",
       "    <tr>\n",
       "      <th>1</th>\n",
       "      <td>mcgonagall</td>\n",
       "      <td>good evening, professor dumbledore.</td>\n",
       "    </tr>\n",
       "    <tr>\n",
       "      <th>2</th>\n",
       "      <td>mcgonagall</td>\n",
       "      <td>are the rumors true, albus?</td>\n",
       "    </tr>\n",
       "    <tr>\n",
       "      <th>3</th>\n",
       "      <td>dumbledore</td>\n",
       "      <td>i'm afraid so, professor.</td>\n",
       "    </tr>\n",
       "    <tr>\n",
       "      <th>4</th>\n",
       "      <td>dumbledore</td>\n",
       "      <td>the good and the bad.</td>\n",
       "    </tr>\n",
       "  </tbody>\n",
       "</table>\n",
       "</div>"
      ],
      "text/plain": [
       "    character                                           sentence\n",
       "0  dumbledore  i should've known that you would be here, prof...\n",
       "1  mcgonagall                good evening, professor dumbledore.\n",
       "2  mcgonagall                        are the rumors true, albus?\n",
       "3  dumbledore                          i'm afraid so, professor.\n",
       "4  dumbledore                              the good and the bad."
      ]
     },
     "execution_count": 4,
     "metadata": {},
     "output_type": "execute_result"
    }
   ],
   "source": [
    "# vertical concatenation of books\n",
    "combined = pd.concat([hp1, hp2, hp3], ignore_index=True)\n",
    "combined.head()"
   ]
  },
  {
   "cell_type": "code",
   "execution_count": null,
   "id": "eed4a2b0",
   "metadata": {},
   "outputs": [],
   "source": []
  },
  {
   "cell_type": "markdown",
   "id": "f9ca885d",
   "metadata": {},
   "source": [
    "### fixing characters data"
   ]
  },
  {
   "cell_type": "code",
   "execution_count": 5,
   "id": "5c5b2765",
   "metadata": {},
   "outputs": [],
   "source": [
    "# changing characters columns to lower case\n",
    "'''if not other cols would be created because of name differences'''\n",
    "characters.columns = characters.columns.str.lower()"
   ]
  },
  {
   "cell_type": "code",
   "execution_count": 6,
   "id": "efad4282",
   "metadata": {},
   "outputs": [],
   "source": [
    "# columns to date format\n",
    "characters['birth'] = pd.to_datetime(characters['birth'], errors='coerce')\n",
    "characters['death'] = pd.to_datetime(characters['death'], errors='coerce')"
   ]
  },
  {
   "cell_type": "code",
   "execution_count": 7,
   "id": "ec155a82",
   "metadata": {},
   "outputs": [
    {
     "data": {
      "text/plain": [
       "Index(['name', 'gender', 'job', 'house', 'wand', 'patronus', 'species',\n",
       "       'blood status', 'hair colour', 'eye colour', 'loyalty', 'skills'],\n",
       "      dtype='object')"
      ]
     },
     "execution_count": 7,
     "metadata": {},
     "output_type": "execute_result"
    }
   ],
   "source": [
    "# get non numerical values\n",
    "non_num = characters.select_dtypes(exclude=['int64','float64','datetime','timedelta'])\n",
    "num     = characters.select_dtypes(exclude=['object'])\n",
    "\n",
    "non_num.columns"
   ]
  },
  {
   "cell_type": "code",
   "execution_count": 8,
   "id": "99f1c63b",
   "metadata": {},
   "outputs": [
    {
     "data": {
      "text/html": [
       "<div>\n",
       "<style scoped>\n",
       "    .dataframe tbody tr th:only-of-type {\n",
       "        vertical-align: middle;\n",
       "    }\n",
       "\n",
       "    .dataframe tbody tr th {\n",
       "        vertical-align: top;\n",
       "    }\n",
       "\n",
       "    .dataframe thead th {\n",
       "        text-align: right;\n",
       "    }\n",
       "</style>\n",
       "<table border=\"1\" class=\"dataframe\">\n",
       "  <thead>\n",
       "    <tr style=\"text-align: right;\">\n",
       "      <th></th>\n",
       "      <th>id</th>\n",
       "      <th>name</th>\n",
       "      <th>gender</th>\n",
       "      <th>job</th>\n",
       "      <th>house</th>\n",
       "      <th>wand</th>\n",
       "      <th>patronus</th>\n",
       "      <th>species</th>\n",
       "      <th>blood status</th>\n",
       "      <th>hair colour</th>\n",
       "      <th>eye colour</th>\n",
       "      <th>loyalty</th>\n",
       "      <th>skills</th>\n",
       "      <th>birth</th>\n",
       "      <th>death</th>\n",
       "    </tr>\n",
       "  </thead>\n",
       "  <tbody>\n",
       "    <tr>\n",
       "      <th>0</th>\n",
       "      <td>1</td>\n",
       "      <td>harry james potter</td>\n",
       "      <td>male</td>\n",
       "      <td>student</td>\n",
       "      <td>gryffindor</td>\n",
       "      <td>11\"  holly  phoenix feather</td>\n",
       "      <td>stag</td>\n",
       "      <td>human</td>\n",
       "      <td>half-blood</td>\n",
       "      <td>black</td>\n",
       "      <td>bright green</td>\n",
       "      <td>albus dumbledore | dumbledore's army | order o...</td>\n",
       "      <td>parseltongue| defence against the dark arts | ...</td>\n",
       "      <td>1980-07-31</td>\n",
       "      <td>NaT</td>\n",
       "    </tr>\n",
       "    <tr>\n",
       "      <th>1</th>\n",
       "      <td>2</td>\n",
       "      <td>ronald bilius weasley</td>\n",
       "      <td>male</td>\n",
       "      <td>student</td>\n",
       "      <td>gryffindor</td>\n",
       "      <td>12\" ash unicorn tail hair</td>\n",
       "      <td>jack russell terrier</td>\n",
       "      <td>human</td>\n",
       "      <td>pure-blood</td>\n",
       "      <td>red</td>\n",
       "      <td>blue</td>\n",
       "      <td>dumbledore's army | order of the phoenix | hog...</td>\n",
       "      <td>wizard chess | quidditch goalkeeping</td>\n",
       "      <td>1980-03-01</td>\n",
       "      <td>NaT</td>\n",
       "    </tr>\n",
       "  </tbody>\n",
       "</table>\n",
       "</div>"
      ],
      "text/plain": [
       "   id                   name gender      job       house  \\\n",
       "0   1     harry james potter   male  student  gryffindor   \n",
       "1   2  ronald bilius weasley   male  student  gryffindor   \n",
       "\n",
       "                          wand              patronus species blood status  \\\n",
       "0  11\"  holly  phoenix feather                  stag   human   half-blood   \n",
       "1   12\" ash unicorn tail hair   jack russell terrier   human   pure-blood   \n",
       "\n",
       "  hair colour    eye colour  \\\n",
       "0       black  bright green   \n",
       "1         red          blue   \n",
       "\n",
       "                                             loyalty  \\\n",
       "0  albus dumbledore | dumbledore's army | order o...   \n",
       "1  dumbledore's army | order of the phoenix | hog...   \n",
       "\n",
       "                                              skills      birth death  \n",
       "0  parseltongue| defence against the dark arts | ... 1980-07-31   NaT  \n",
       "1               wizard chess | quidditch goalkeeping 1980-03-01   NaT  "
      ]
     },
     "execution_count": 8,
     "metadata": {},
     "output_type": "execute_result"
    }
   ],
   "source": [
    "# changing character non_num values to lowercase\n",
    "for column in non_num.columns:\n",
    "    non_num[column] = non_num[column].str.lower() #lowercase\n",
    "\n",
    "characters[non_num.columns] = non_num # replace in original table\n",
    "characters.head(2) # inspect"
   ]
  },
  {
   "cell_type": "markdown",
   "id": "ed8b46ca",
   "metadata": {},
   "source": [
    "# Plots :\n",
    "### Characters with the most sentences\n",
    "#### top 15 of the first 3 movies "
   ]
  },
  {
   "cell_type": "code",
   "execution_count": 9,
   "id": "6575b882",
   "metadata": {
    "scrolled": true
   },
   "outputs": [
    {
     "data": {
      "image/png": "[encoded data removed]",
      "text/plain": [
       "<Figure size 640x480 with 1 Axes>"
      ]
     },
     "metadata": {},
     "output_type": "display_data"
    }
   ],
   "source": [
    "%matplotlib inline\n",
    "df = combined\n",
    "df = df.groupby('character').count()\n",
    "df = df.sort_values(by='sentence',ascending=False)\n",
    "df = df.head(15)\n",
    "df['sentence'].plot(kind='barh')\n",
    "plt.title('top 15 of the first 3 movies')\n",
    "plt.xlabel('Number of Sentences')\n",
    "plt.ylabel('Character name')\n",
    "plt.show()\n"
   ]
  },
  {
   "cell_type": "markdown",
   "id": "22ff8745",
   "metadata": {},
   "source": [
    "### Most popular words in first 3 movies"
   ]
  },
  {
   "cell_type": "code",
   "execution_count": 10,
   "id": "18066f2e",
   "metadata": {},
   "outputs": [
    {
     "name": "stdout",
     "output_type": "stream",
     "text": [
      "the     902\n",
      "you     846\n",
      "to      725\n",
      "i       641\n",
      "a       538\n",
      "of      428\n",
      "and     356\n",
      "it      281\n",
      "be      263\n",
      "that    263\n",
      "is      253\n",
      "in      244\n",
      "your    222\n",
      "what    202\n",
      "have    183\n",
      "dtype: int64\n"
     ]
    }
   ],
   "source": [
    "# Split the sentences into a list of words\n",
    "df = combined\n",
    "df[\"sentence\"] = df[\"sentence\"].str.split()\n",
    "\n",
    "# Flatten the list of words\n",
    "words = [word for sentence in df[\"sentence\"] for word in sentence]\n",
    "\n",
    "# Find the 15 most common words\n",
    "common_words = pd.Series(words).value_counts().head(15)\n",
    "print(common_words)"
   ]
  }
 ],
 "metadata": {
  "kernelspec": {
   "display_name": "Python 3 (ipykernel)",
   "language": "python",
   "name": "python3"
  },
  "language_info": {
   "codemirror_mode": {
    "name": "ipython",
    "version": 3
   },
   "file_extension": ".py",
   "mimetype": "text/x-python",
   "name": "python",
   "nbconvert_exporter": "python",
   "pygments_lexer": "ipython3",
   "version": "3.10.6"
  }
 },
 "nbformat": 4,
 "nbformat_minor": 5
}
