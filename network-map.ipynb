{
 "cells": [
  {
   "cell_type": "markdown",
   "id": "36b44a2a",
   "metadata": {},
   "source": [
    "#### importing modules & reproducibility"
   ]
  },
  {
   "cell_type": "code",
   "execution_count": 1,
   "id": "607737c6",
   "metadata": {},
   "outputs": [],
   "source": [
    "# import modules\n",
    "import pandas as pd\n",
    "import seaborn as sns\n",
    "import numpy as np\n",
    "\n",
    "# Fixing random state for reproducibility\n",
    "np.random.seed(387)"
   ]
  },
  {
   "cell_type": "markdown",
   "id": "09bc3276",
   "metadata": {},
   "source": [
    "# ***Preprocessing***"
   ]
  },
  {
   "cell_type": "code",
   "execution_count": 2,
   "id": "0af1cf55",
   "metadata": {},
   "outputs": [
    {
     "name": "stdout",
     "output_type": "stream",
     "text": [
      "books database ----> \n",
      "     Character                                           Sentence\n",
      "0  Dumbledore  I should've known that you would be here, Prof...\n",
      "1  McGonagall                Good evening, Professor Dumbledore. \n",
      " \n",
      "\n",
      "characters database ----> \n",
      "    Id                Name Gender      Job       House  \\\n",
      "0   1  Harry James Potter   Male  Student  Gryffindor   \n",
      "\n",
      "                          Wand Patronus Species Blood status Hair colour  \\\n",
      "0  11\"  Holly  phoenix feather     Stag   Human   Half-blood       Black   \n",
      "\n",
      "     Eye colour                                            Loyalty  \\\n",
      "0  Bright green  Albus Dumbledore | Dumbledore's Army | Order o...   \n",
      "\n",
      "                                              Skills         Birth Death  \n",
      "0  Parseltongue| Defence Against the Dark Arts | ...  31 July 1980   NaN  \n"
     ]
    }
   ],
   "source": [
    "# read data\n",
    "characters = pd.read_csv('datasets/Characters.csv', sep=';')\n",
    "hp1 = pd.read_csv('datasets/Harry Potter 1.csv', sep=';')\n",
    "hp2 = pd.read_csv('datasets/Harry Potter 2.csv', sep=';')\n",
    "hp3 = pd.read_csv('datasets/Harry Potter 3.csv', sep=';')\n",
    "\n",
    "# inspect\n",
    "print('books database ----> \\n',hp1.head(2), '\\n \\n')\n",
    "print('characters database ----> \\n',characters.head(1))"
   ]
  },
  {
   "cell_type": "markdown",
   "id": "ff2be0dc",
   "metadata": {},
   "source": [
    "## ***profiling structure***\n",
    "### fixing books data"
   ]
  },
  {
   "cell_type": "code",
   "execution_count": 3,
   "id": "b8471c2c",
   "metadata": {},
   "outputs": [
    {
     "name": "stdout",
     "output_type": "stream",
     "text": [
      "[       character                                           sentence\n",
      "0     dumbledore  i should've known that you would be here, prof...\n",
      "1     mcgonagall                good evening, professor dumbledore.\n",
      "2     mcgonagall                        are the rumors true, albus?\n",
      "3     dumbledore                          i'm afraid so, professor.\n",
      "4     dumbledore                              the good and the bad.\n",
      "...          ...                                                ...\n",
      "1582      hagrid  oh, listen, harry, if that dolt of a cousin of...\n",
      "1583       harry  but hagrid, we're not allowed to do magic away...\n",
      "1584      hagrid  i do. but your cousin don't, do he? eh? off yo...\n",
      "1585    hermione        feels strange to be going home, doesn't it?\n",
      "1586       harry                    i'm not going home. not really.\n",
      "\n",
      "[1587 rows x 2 columns]]\n"
     ]
    }
   ],
   "source": [
    "trilogy = [hp1, hp2, hp3] \n",
    "\n",
    "# changing books columns and values to lower case\n",
    "'''if not other cols would be created because of name differences'''\n",
    "for book in trilogy:\n",
    "    book.columns = hp1.columns.str.lower()\n",
    "    book['character'] = book['character'].str.lower() # character column\n",
    "    book['sentence'] = book['sentence'].str.lower()   # sentence column\n",
    "    \n",
    "print(trilogy[0:1])"
   ]
  },
  {
   "cell_type": "code",
   "execution_count": 4,
   "id": "08dee30d",
   "metadata": {
    "scrolled": false
   },
   "outputs": [
    {
     "data": {
      "text/html": [
       "<div>\n",
       "<style scoped>\n",
       "    .dataframe tbody tr th:only-of-type {\n",
       "        vertical-align: middle;\n",
       "    }\n",
       "\n",
       "    .dataframe tbody tr th {\n",
       "        vertical-align: top;\n",
       "    }\n",
       "\n",
       "    .dataframe thead th {\n",
       "        text-align: right;\n",
       "    }\n",
       "</style>\n",
       "<table border=\"1\" class=\"dataframe\">\n",
       "  <thead>\n",
       "    <tr style=\"text-align: right;\">\n",
       "      <th></th>\n",
       "      <th>character</th>\n",
       "      <th>sentence</th>\n",
       "    </tr>\n",
       "  </thead>\n",
       "  <tbody>\n",
       "    <tr>\n",
       "      <th>0</th>\n",
       "      <td>dumbledore</td>\n",
       "      <td>i should've known that you would be here, prof...</td>\n",
       "    </tr>\n",
       "    <tr>\n",
       "      <th>1</th>\n",
       "      <td>mcgonagall</td>\n",
       "      <td>good evening, professor dumbledore.</td>\n",
       "    </tr>\n",
       "    <tr>\n",
       "      <th>2</th>\n",
       "      <td>mcgonagall</td>\n",
       "      <td>are the rumors true, albus?</td>\n",
       "    </tr>\n",
       "    <tr>\n",
       "      <th>3</th>\n",
       "      <td>dumbledore</td>\n",
       "      <td>i'm afraid so, professor.</td>\n",
       "    </tr>\n",
       "    <tr>\n",
       "      <th>4</th>\n",
       "      <td>dumbledore</td>\n",
       "      <td>the good and the bad.</td>\n",
       "    </tr>\n",
       "    <tr>\n",
       "      <th>...</th>\n",
       "      <td>...</td>\n",
       "      <td>...</td>\n",
       "    </tr>\n",
       "    <tr>\n",
       "      <th>4920</th>\n",
       "      <td>hermione</td>\n",
       "      <td>how fast is it, harry?</td>\n",
       "    </tr>\n",
       "    <tr>\n",
       "      <th>4921</th>\n",
       "      <td>harry</td>\n",
       "      <td>lumos.</td>\n",
       "    </tr>\n",
       "    <tr>\n",
       "      <th>4922</th>\n",
       "      <td>harry</td>\n",
       "      <td>i solemnly swear that i am up to no good.</td>\n",
       "    </tr>\n",
       "    <tr>\n",
       "      <th>4923</th>\n",
       "      <td>harry</td>\n",
       "      <td>mischief managed.</td>\n",
       "    </tr>\n",
       "    <tr>\n",
       "      <th>4924</th>\n",
       "      <td>harry</td>\n",
       "      <td>nox.</td>\n",
       "    </tr>\n",
       "  </tbody>\n",
       "</table>\n",
       "<p>4925 rows × 2 columns</p>\n",
       "</div>"
      ],
      "text/plain": [
       "       character                                           sentence\n",
       "0     dumbledore  i should've known that you would be here, prof...\n",
       "1     mcgonagall                good evening, professor dumbledore.\n",
       "2     mcgonagall                        are the rumors true, albus?\n",
       "3     dumbledore                          i'm afraid so, professor.\n",
       "4     dumbledore                              the good and the bad.\n",
       "...          ...                                                ...\n",
       "4920    hermione                             how fast is it, harry?\n",
       "4921       harry                                             lumos.\n",
       "4922       harry          i solemnly swear that i am up to no good.\n",
       "4923       harry                                  mischief managed.\n",
       "4924       harry                                               nox.\n",
       "\n",
       "[4925 rows x 2 columns]"
      ]
     },
     "execution_count": 4,
     "metadata": {},
     "output_type": "execute_result"
    }
   ],
   "source": [
    "# vertical concatenation of books\n",
    "combined = pd.concat([hp1, hp2, hp3], ignore_index=True)\n",
    "combined"
   ]
  },
  {
   "cell_type": "markdown",
   "id": "56ed150d",
   "metadata": {},
   "source": [
    "### fixing characters data"
   ]
  },
  {
   "cell_type": "code",
   "execution_count": 11,
   "id": "e7aaf837",
   "metadata": {
    "scrolled": true
   },
   "outputs": [
    {
     "name": "stdout",
     "output_type": "stream",
     "text": [
      "<class 'pandas.core.frame.DataFrame'>\n",
      "RangeIndex: 140 entries, 0 to 139\n",
      "Data columns (total 15 columns):\n",
      " #   Column        Non-Null Count  Dtype \n",
      "---  ------        --------------  ----- \n",
      " 0   id            140 non-null    int64 \n",
      " 1   name          140 non-null    object\n",
      " 2   gender        139 non-null    object\n",
      " 3   job           121 non-null    object\n",
      " 4   house         101 non-null    object\n",
      " 5   wand          132 non-null    object\n",
      " 6   patronus      130 non-null    object\n",
      " 7   species       140 non-null    object\n",
      " 8   blood status  123 non-null    object\n",
      " 9   hair colour   123 non-null    object\n",
      " 10  eye colour    86 non-null     object\n",
      " 11  loyalty       89 non-null     object\n",
      " 12  skills        113 non-null    object\n",
      " 13  birth         127 non-null    object\n",
      " 14  death         42 non-null     object\n",
      "dtypes: int64(1), object(14)\n",
      "memory usage: 16.5+ KB\n"
     ]
    }
   ],
   "source": [
    "characters.info()"
   ]
  },
  {
   "cell_type": "code",
   "execution_count": 6,
   "id": "da58b7b6",
   "metadata": {},
   "outputs": [],
   "source": [
    "# changing books columns and values to lower case\n",
    "'''if not other cols would be created because of name differences'''\n",
    "characters.columns = characters.columns.str.lower()"
   ]
  },
  {
   "cell_type": "code",
   "execution_count": 14,
   "id": "1526f394",
   "metadata": {},
   "outputs": [],
   "source": [
    "# divide numerical and non-numerical columns\n",
    "numerical     = characters.select_dtypes(exclude='object')\n",
    "non_numerical = characters.select_dtypes(exclude=['int64','float64'])"
   ]
  },
  {
   "cell_type": "code",
   "execution_count": 16,
   "id": "c7b9537f",
   "metadata": {},
   "outputs": [
    {
     "data": {
      "text/plain": [
       "0        Male\n",
       "1        Male\n",
       "2      Female\n",
       "3        Male\n",
       "4        Male\n",
       "        ...  \n",
       "135    Female\n",
       "136      Male\n",
       "137      Male\n",
       "138      Male\n",
       "139      Male\n",
       "Name: gender, Length: 140, dtype: category\n",
       "Categories (2, object): ['Female', 'Male']"
      ]
     },
     "execution_count": 16,
     "metadata": {},
     "output_type": "execute_result"
    }
   ],
   "source": [
    "# changing column dtypes\n",
    "characters['gender'].astype('category')"
   ]
  },
  {
   "cell_type": "markdown",
   "id": "a7168499",
   "metadata": {},
   "source": [
    "#### inspecting tables"
   ]
  },
  {
   "cell_type": "code",
   "execution_count": 17,
   "id": "a1a1f0fe",
   "metadata": {},
   "outputs": [
    {
     "name": "stdout",
     "output_type": "stream",
     "text": [
      "Index(['id', 'name', 'gender', 'job', 'house', 'wand', 'patronus', 'species',\n",
      "       'blood status', 'hair colour', 'eye colour', 'loyalty', 'skills',\n",
      "       'birth', 'death'],\n",
      "      dtype='object') \n",
      "\n",
      "Index(['character', 'sentence'], dtype='object')\n"
     ]
    }
   ],
   "source": [
    "# column names\n",
    "print(characters.columns,'\\n')\n",
    "print(hp1.columns)"
   ]
  },
  {
   "cell_type": "code",
   "execution_count": 9,
   "id": "28b2a03f",
   "metadata": {},
   "outputs": [
    {
     "name": "stdout",
     "output_type": "stream",
     "text": [
      "hp1 shape: (1587, 2) \n",
      " hp2 shape: (1700, 2) \n",
      " hp3 shape: (1638, 2)\n"
     ]
    }
   ],
   "source": [
    "# 3 tables shapes\n",
    "print(\"hp1 shape:\", hp1.shape,'\\n',\n",
    "      \"hp2 shape:\", hp2.shape,'\\n',\n",
    "      \"hp3 shape:\", hp3.shape)"
   ]
  },
  {
   "cell_type": "markdown",
   "id": "ed8b46ca",
   "metadata": {},
   "source": [
    "# Plots :\n",
    "### Characters with the most sentences\n",
    "#### top 15 of the first 3 movies "
   ]
  }
 ],
 "metadata": {
  "kernelspec": {
   "display_name": "Python 3 (ipykernel)",
   "language": "python",
   "name": "python3"
  },
  "language_info": {
   "codemirror_mode": {
    "name": "ipython",
    "version": 3
   },
   "file_extension": ".py",
   "mimetype": "text/x-python",
   "name": "python",
   "nbconvert_exporter": "python",
   "pygments_lexer": "ipython3",
   "version": "3.10.7"
  }
 },
 "nbformat": 4,
 "nbformat_minor": 5
}
